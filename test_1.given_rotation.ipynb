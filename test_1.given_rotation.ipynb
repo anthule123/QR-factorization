{
 "cells": [
  {
   "cell_type": "code",
   "execution_count": 1,
   "metadata": {},
   "outputs": [
    {
     "name": "stdout",
     "output_type": "stream",
     "text": [
      "0.0 1.0\n"
     ]
    }
   ],
   "source": [
    "from given_rotation import GivenRotation\n",
    "import numpy as np\n",
    "import given_rotation\n",
    "\n",
    "a, b  = 0,5\n",
    "c, s = given_rotation.calculate_cos_and_sin(a, b)\n",
    "print(c, s)"
   ]
  },
  {
   "cell_type": "code",
   "execution_count": 6,
   "metadata": {},
   "outputs": [
    {
     "name": "stdout",
     "output_type": "stream",
     "text": [
      "[7.615773105863909, 0]\n",
      "0.39391929857916763 0.9191450300180579\n"
     ]
    },
    {
     "data": {
      "text/plain": [
       "[3.0, 7.000000000000001]"
      ]
     },
     "execution_count": 6,
     "metadata": {},
     "output_type": "execute_result"
    }
   ],
   "source": [
    "import numpy as np\n",
    "\n",
    "\n",
    "A = np.array([3.0,7.0])\n",
    "c,s =given_rotation.calculate_cos_and_sin(A[0], A[1])\n",
    "givens = GivenRotation(c, s, 0, 1)\n",
    "b = [np.linalg.norm(A), 0]\n",
    "print(b)\n",
    "action = givens.left_multiply(b)\n",
    "print(c,s)\n",
    "b"
   ]
  },
  {
   "cell_type": "code",
   "execution_count": 9,
   "metadata": {},
   "outputs": [
    {
     "data": {
      "text/plain": [
       "array([ 3., -7.])"
      ]
     },
     "execution_count": 9,
     "metadata": {},
     "output_type": "execute_result"
    }
   ],
   "source": [
    "givens_reverse = GivenRotation(c, -s, 0, 1)\n",
    "givens_reverse.left_multiply(A)\n",
    "A"
   ]
  },
  {
   "cell_type": "code",
   "execution_count": 8,
   "metadata": {},
   "outputs": [
    {
     "data": {
      "text/plain": [
       "(0.39391929857916763, -0.9191450300180579)"
      ]
     },
     "execution_count": 8,
     "metadata": {},
     "output_type": "execute_result"
    }
   ],
   "source": [
    "c1 = givens_reverse.cos\n",
    "s1 = givens_reverse.sin\n",
    "c1, s1"
   ]
  },
  {
   "cell_type": "code",
   "execution_count": 10,
   "metadata": {},
   "outputs": [
    {
     "data": {
      "text/plain": [
       "(7.615773105863909, -4.440892098500626e-16)"
      ]
     },
     "execution_count": 10,
     "metadata": {},
     "output_type": "execute_result"
    }
   ],
   "source": [
    "c1*3-s1*7, s1*3+c1*7"
   ]
  }
 ],
 "metadata": {
  "kernelspec": {
   "display_name": "Python 3",
   "language": "python",
   "name": "python3"
  },
  "language_info": {
   "codemirror_mode": {
    "name": "ipython",
    "version": 3
   },
   "file_extension": ".py",
   "mimetype": "text/x-python",
   "name": "python",
   "nbconvert_exporter": "python",
   "pygments_lexer": "ipython3",
   "version": "3.11.3"
  },
  "orig_nbformat": 4
 },
 "nbformat": 4,
 "nbformat_minor": 2
}
