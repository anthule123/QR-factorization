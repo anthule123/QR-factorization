{
 "cells": [
  {
   "cell_type": "code",
   "execution_count": 3,
   "metadata": {},
   "outputs": [],
   "source": [
    "#tạo ma trận A bất kì rồi dùng numpy.linalg.eig để tính eigenvalue và eigenvector\n",
    "#\n",
    "# In[1]:\n",
    "import numpy as np\n",
    "#A là ma trận cỡ 5x5\n",
    "A = np.random.randint(1, 10, size=(5,5))\n",
    "#float\n",
    "A = A.astype(np.float64)\n",
    "A\n",
    "#làm cho A đói xứng\n",
    "A = A @ A.T\n"
   ]
  },
  {
   "cell_type": "code",
   "execution_count": 4,
   "metadata": {},
   "outputs": [
    {
     "data": {
      "text/plain": [
       "(array([7.50157469e+02, 6.64594037e+01, 3.73663845e+01, 7.09169365e-01,\n",
       "        5.30757376e+00]),\n",
       " array([[-0.42198338, -0.1016827 ,  0.66281524, -0.60072943,  0.1067275 ],\n",
       "        [-0.39246313,  0.49653151,  0.42274586,  0.63269412, -0.14287489],\n",
       "        [-0.55851008,  0.25931263, -0.52073098, -0.31502207, -0.50042362],\n",
       "        [-0.35514029, -0.82205344,  0.01318637,  0.35568417, -0.26724222],\n",
       "        [-0.47942109, -0.01010869, -0.33260676,  0.11433361,  0.80396132]]))"
      ]
     },
     "execution_count": 4,
     "metadata": {},
     "output_type": "execute_result"
    }
   ],
   "source": [
    "eig = np.linalg.eig(A)\n",
    "eig"
   ]
  },
  {
   "cell_type": "code",
   "execution_count": 5,
   "metadata": {},
   "outputs": [],
   "source": [
    "size = 1000\n",
    "A = np.random.randint(1, 100, size=(size,size))\n",
    "A = A.astype(np.float64)\n",
    "A = A @ A.T\n"
   ]
  },
  {
   "cell_type": "code",
   "execution_count": 6,
   "metadata": {},
   "outputs": [],
   "source": [
    "eig = np.linalg.eig(A)\n",
    "\n",
    "#khoảng 1.3-1.5s"
   ]
  },
  {
   "cell_type": "code",
   "execution_count": 8,
   "metadata": {},
   "outputs": [],
   "source": [
    "import scipy\n",
    "\n",
    "\n",
    "eig_scipy = scipy.linalg.eig(A)\n",
    "#khoảng 1.2s"
   ]
  }
 ],
 "metadata": {
  "kernelspec": {
   "display_name": "Python 3",
   "language": "python",
   "name": "python3"
  },
  "language_info": {
   "codemirror_mode": {
    "name": "ipython",
    "version": 3
   },
   "file_extension": ".py",
   "mimetype": "text/x-python",
   "name": "python",
   "nbconvert_exporter": "python",
   "pygments_lexer": "ipython3",
   "version": "3.11.3"
  },
  "orig_nbformat": 4
 },
 "nbformat": 4,
 "nbformat_minor": 2
}
