{
 "cells": [
  {
   "cell_type": "code",
   "execution_count": 1,
   "metadata": {},
   "outputs": [
    {
     "name": "stdout",
     "output_type": "stream",
     "text": [
      "[[2. 4. 8.]\n",
      " [3. 8. 8.]\n",
      " [8. 3. 5.]]\n"
     ]
    }
   ],
   "source": [
    "#nhập ma trận A cỡ 5x5 bất kì\n",
    "import numpy as np\n",
    "A = np.random.randint(1, 10, (3,3))\n",
    "#biến A thành floating point\n",
    "A = A.astype(float)\n",
    "print(A)"
   ]
  },
  {
   "cell_type": "code",
   "execution_count": 2,
   "metadata": {},
   "outputs": [
    {
     "name": "stdout",
     "output_type": "stream",
     "text": [
      "3\n"
     ]
    }
   ],
   "source": [
    "#rank của ma trận A\n",
    "print(np.linalg.matrix_rank(A))"
   ]
  },
  {
   "cell_type": "code",
   "execution_count": 3,
   "metadata": {},
   "outputs": [
    {
     "name": "stdout",
     "output_type": "stream",
     "text": [
      "[[-8.77496439e+00 -6.38179228e+00 -9.11684612e+00]\n",
      " [-4.44089210e-16 -6.94785775e+00 -7.60208164e+00]\n",
      " [-1.77635684e-15 -8.88178420e-16  3.47727934e+00]]\n"
     ]
    }
   ],
   "source": [
    "from qr_by_householder_vectors import QRByHouseholderVector\n",
    "\n",
    "\n",
    "qr = QRByHouseholderVector(A)\n",
    "R, householder_vectors = qr.decomposite()\n",
    "print(R)\n"
   ]
  },
  {
   "cell_type": "code",
   "execution_count": 5,
   "metadata": {},
   "outputs": [
    {
     "name": "stdout",
     "output_type": "stream",
     "text": [
      "HouseholderVector: v = [0.78355636 0.21816027 0.58176071], i = 0\n",
      "\n",
      "HouseholderVector: v = [ 0.93150469 -0.36372932], i = 1\n",
      "\n",
      "HouseholderVector: v = [-1.], i = 2\n",
      "\n"
     ]
    }
   ],
   "source": [
    "#print the householder vectors\n",
    "for i in range(len(householder_vectors)):\n",
    "    print(householder_vectors[i])"
   ]
  },
  {
   "cell_type": "code",
   "execution_count": 6,
   "metadata": {},
   "outputs": [
    {
     "name": "stdout",
     "output_type": "stream",
     "text": [
      "[8. 8. 5.] [8. 8. 5.]\n",
      "[-9.11684612 -7.60208164  3.47727934] [8. 8. 5.]\n"
     ]
    }
   ],
   "source": [
    "R0 = R[:, 2].copy()\n",
    "test_column2 = qr.left_multiply_Q(R0)\n",
    "print(test_column2, A[:, 2])\n",
    "print(R0, A[:, 2])"
   ]
  },
  {
   "cell_type": "code",
   "execution_count": 7,
   "metadata": {},
   "outputs": [
    {
     "name": "stdout",
     "output_type": "stream",
     "text": [
      "8.774964387392123 8.774964387392123\n"
     ]
    }
   ],
   "source": [
    "#so sánh chuẩn của A[0] và R[0]\n",
    "print(np.linalg.norm(A[:, 0]), np.linalg.norm(R[:, 0]))"
   ]
  }
 ],
 "metadata": {
  "kernelspec": {
   "display_name": "Python 3",
   "language": "python",
   "name": "python3"
  },
  "language_info": {
   "codemirror_mode": {
    "name": "ipython",
    "version": 3
   },
   "file_extension": ".py",
   "mimetype": "text/x-python",
   "name": "python",
   "nbconvert_exporter": "python",
   "pygments_lexer": "ipython3",
   "version": "3.11.3"
  },
  "orig_nbformat": 4
 },
 "nbformat": 4,
 "nbformat_minor": 2
}
