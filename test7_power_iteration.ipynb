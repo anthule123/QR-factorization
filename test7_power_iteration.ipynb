{
 "cells": [
  {
   "cell_type": "code",
   "execution_count": 1,
   "metadata": {},
   "outputs": [
    {
     "name": "stdout",
     "output_type": "stream",
     "text": [
      "[[34. 55. 35. 36. 82.]\n",
      " [43. 41. 98. 46. 36.]\n",
      " [34. 52. 64.  4. 61.]\n",
      " [33. 51. 20. 80. 27.]\n",
      " [21. 39. 32. 79.  1.]]\n"
     ]
    }
   ],
   "source": [
    "##nhập ma trận A cỡ 5x5 bất kì\n",
    "import numpy as np\n",
    "A = np.random.randint(1, 100, (5, 5))\n",
    "#biến A thành floating point\n",
    "A = A.astype(float)\n",
    "print(A)"
   ]
  },
  {
   "cell_type": "code",
   "execution_count": 2,
   "metadata": {},
   "outputs": [],
   "source": [
    "n = A.shape[0]"
   ]
  },
  {
   "cell_type": "code",
   "execution_count": 3,
   "metadata": {},
   "outputs": [
    {
     "name": "stdout",
     "output_type": "stream",
     "text": [
      "deque([array([1., 0., 0., 0., 0.]), array([0., 1., 0., 0., 0.]), array([0., 0., 1., 0., 0.]), array([0., 0., 0., 1., 0.]), array([0., 0., 0., 0., 1.])])\n"
     ]
    }
   ],
   "source": [
    "from collections import deque\n",
    "\n",
    "\n",
    "init_vectors = deque()\n",
    "id = np.identity(n)\n",
    "for i in range(n):\n",
    "    #lay vector don vi\n",
    "    init_vectors.append(id[i])\n",
    "print(init_vectors)\n"
   ]
  },
  {
   "cell_type": "code",
   "execution_count": 4,
   "metadata": {},
   "outputs": [
    {
     "name": "stdout",
     "output_type": "stream",
     "text": [
      "x1 and norm [1. 0. 0. 0. 0.] 1.0\n",
      "x1 and norm [-0.18103113 -0.20129316 -0.16295737 -0.16444327  0.93440468] 1.0\n",
      "x1 and norm [-2.61454258e-01 -2.90717691e-01  8.89224359e-01 -2.37497230e-01\n",
      " -3.12132426e-17] 1.0\n",
      "x1 and norm [-0.13144846 -0.60678034  0.74779445 -0.12178844  0.20127087] 1.0\n",
      "x1 and norm [-0.49271065 -0.05849133  0.06017831  0.83932677 -0.21383201] 1.0\n"
     ]
    }
   ],
   "source": [
    "from find_eig_by_power_iteration import find_eig_by_power_iteration\n",
    "\n",
    "\n",
    "old_eigen_vectors = []\n",
    "current_eigen_vector = np.zeros(n)\n",
    "eigen_values = []\n",
    "eigen_vectors = []\n",
    "for i in range(n):\n",
    "\n",
    "    choose_index = 0\n",
    "    #ma tran A se tru di\n",
    "    if i > 0:\n",
    "        A = A - eigen_values[i-1] * np.outer(current_eigen_vector, current_eigen_vector)\n",
    "    for j in range(len(init_vectors)):\n",
    "            x0= init_vectors[j] - (init_vectors[j].dot(current_eigen_vector) )* current_eigen_vector\n",
    "            init_vectors[j] = x0\n",
    "            #neu chuan no lon hon chuan cua init_vectors[choose_index] thi chon no\n",
    "            if np.linalg.norm(x0) > np.linalg.norm(init_vectors[choose_index]):\n",
    "                choose_index = j\n",
    "    x1 = init_vectors[choose_index]/np.linalg.norm(init_vectors[choose_index])\n",
    "    #lay random vector\n",
    "    print('x1 and norm', x1, np.linalg.norm(x1))\n",
    "    eigen_value, eigen_vector = find_eig_by_power_iteration(matrixA=A, x0=x1, tol=1e-20, maxiter=1000, eigenvectors=eigen_vectors)\n",
    "    eigen_values.append(eigen_value)\n",
    "    eigen_vectors.append(eigen_vector.copy())\n",
    "    current_eigen_vector = eigen_vector.copy()\n",
    "        \n",
    "        "
   ]
  },
  {
   "cell_type": "code",
   "execution_count": 5,
   "metadata": {},
   "outputs": [
    {
     "name": "stdout",
     "output_type": "stream",
     "text": [
      "[220.8729170560726, -38.03177671824525, 38.18216034347182, -7.105372859446219, -0.9610473077673389]\n",
      "[array([0.47487376, 0.5280243 , 0.42746337, 0.43136112, 0.35621328]), array([-0.18103113, -0.20129316, -0.16295737, -0.16444327,  0.93440468]), array([-0.33447892,  0.60590118,  0.49918985, -0.29876858, -0.4272639 ]), array([-0.13144846, -0.60678034,  0.74779445, -0.12178844,  0.20127087]), array([ 0.45530972, -0.44992055, -0.19529794,  0.48925762,  0.55924078])]\n"
     ]
    }
   ],
   "source": [
    "print(eigen_values)\n",
    "print(eigen_vectors)"
   ]
  },
  {
   "cell_type": "code",
   "execution_count": 6,
   "metadata": {},
   "outputs": [
    {
     "name": "stdout",
     "output_type": "stream",
     "text": [
      "[221.22103174532637, 58.99530083475023, 38.18216034347181, 58.86968616456875, 6.91375717961828]\n"
     ]
    }
   ],
   "source": [
    "#tinh error\n",
    "error = []\n",
    "for i in range(len(eigen_values)):\n",
    "    error.append(np.linalg.norm(A @ eigen_vectors[i] - eigen_values[i] * eigen_vectors[i]))\n",
    "print(error)"
   ]
  }
 ],
 "metadata": {
  "kernelspec": {
   "display_name": "Python 3",
   "language": "python",
   "name": "python3"
  },
  "language_info": {
   "codemirror_mode": {
    "name": "ipython",
    "version": 3
   },
   "file_extension": ".py",
   "mimetype": "text/x-python",
   "name": "python",
   "nbconvert_exporter": "python",
   "pygments_lexer": "ipython3",
   "version": "3.11.3"
  },
  "orig_nbformat": 4
 },
 "nbformat": 4,
 "nbformat_minor": 2
}
