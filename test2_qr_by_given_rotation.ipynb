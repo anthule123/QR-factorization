{
 "cells": [
  {
   "cell_type": "code",
   "execution_count": 1,
   "metadata": {},
   "outputs": [
    {
     "name": "stdout",
     "output_type": "stream",
     "text": [
      "[[1. 6. 6.]\n",
      " [9. 1. 1.]\n",
      " [1. 7. 2.]]\n"
     ]
    }
   ],
   "source": [
    "#nhập ma trận A cỡ 5x5 bất kì\n",
    "import numpy as np\n",
    "A = np.random.randint(1, 10, (3,3))\n",
    "#biến A thành floating point\n",
    "A = A.astype(float)\n",
    "print(A)"
   ]
  },
  {
   "cell_type": "code",
   "execution_count": 2,
   "metadata": {},
   "outputs": [
    {
     "name": "stdout",
     "output_type": "stream",
     "text": [
      "3\n"
     ]
    }
   ],
   "source": [
    "#rank của ma trận A\n",
    "print(np.linalg.matrix_rank(A))"
   ]
  },
  {
   "cell_type": "code",
   "execution_count": 3,
   "metadata": {},
   "outputs": [
    {
     "name": "stdout",
     "output_type": "stream",
     "text": [
      "Ma trận R:\n",
      "[[1. 6. 6.]\n",
      " [9. 1. 1.]\n",
      " [1. 7. 2.]]\n",
      "Ma trận R:\n",
      "[[ 9.05538514e+00  1.65647289e+00  1.65647289e+00]\n",
      " [-1.11022302e-16 -5.85287088e+00 -5.85287088e+00]\n",
      " [ 1.00000000e+00  7.00000000e+00  2.00000000e+00]]\n",
      "Ma trận R:\n",
      "[[ 9.11043358e+00  2.41481372e+00  1.86599242e+00]\n",
      " [-1.11022302e-16 -5.85287088e+00 -5.85287088e+00]\n",
      " [-1.11022302e-16  6.77588202e+00  1.80609378e+00]]\n",
      "[[ 9.11043358e+00  2.41481372e+00  1.86599242e+00]\n",
      " [-1.11022302e-16  8.95369615e+00  5.19271317e+00]\n",
      " [-1.11022302e-16  0.00000000e+00  3.24866161e+00]]\n"
     ]
    }
   ],
   "source": [
    "from qr_by_given_rotations import QRByGivenRotation\n",
    "\n",
    "\n",
    "qr_by_given_rotation = QRByGivenRotation(A)\n",
    "qr_by_given_rotation.decomposite()\n",
    "R = qr_by_given_rotation.R\n",
    "print(R)"
   ]
  },
  {
   "cell_type": "code",
   "execution_count": 4,
   "metadata": {},
   "outputs": [
    {
     "name": "stdout",
     "output_type": "stream",
     "text": [
      "[GivenRotation(0.11043152607484653, 0.9938837346736189, 0, 1)\n",
      ", GivenRotation(0.9939576486092934, 0.10976425998969036, 0, 2)\n",
      ", GivenRotation(-0.653682097946686, 0.7567692612837941, 1, 2)\n",
      "]\n"
     ]
    }
   ],
   "source": [
    "print(qr_by_given_rotation.rotations)"
   ]
  },
  {
   "cell_type": "code",
   "execution_count": 5,
   "metadata": {},
   "outputs": [
    {
     "name": "stdout",
     "output_type": "stream",
     "text": [
      "[6. 1. 2.] [6. 1. 2.]\n",
      "[1.86599242 5.19271317 3.24866161] [6. 1. 2.]\n"
     ]
    }
   ],
   "source": [
    "#mình sẽ test bằng cách lấy cột đầu tiên của R, tác động lên nó rotation rồi xem nó có bằng cột 1 của A ko\n",
    "R0 = R[:, 2].copy()\n",
    "test_column2 = qr_by_given_rotation.left_multiply_Q(R0)\n",
    "print(test_column2, A[:, 2])\n",
    "print(R0, A[:, 2])"
   ]
  },
  {
   "cell_type": "code",
   "execution_count": 6,
   "metadata": {},
   "outputs": [
    {
     "name": "stdout",
     "output_type": "stream",
     "text": [
      "9.1104335791443 9.110433579144297\n"
     ]
    }
   ],
   "source": [
    "#so sánh chuẩn của A[0] và R[0]\n",
    "print(np.linalg.norm(A[:, 0]), np.linalg.norm(R[:, 0]))"
   ]
  }
 ],
 "metadata": {
  "kernelspec": {
   "display_name": "Python 3",
   "language": "python",
   "name": "python3"
  },
  "language_info": {
   "codemirror_mode": {
    "name": "ipython",
    "version": 3
   },
   "file_extension": ".py",
   "mimetype": "text/x-python",
   "name": "python",
   "nbconvert_exporter": "python",
   "pygments_lexer": "ipython3",
   "version": "3.11.3"
  },
  "orig_nbformat": 4
 },
 "nbformat": 4,
 "nbformat_minor": 2
}
